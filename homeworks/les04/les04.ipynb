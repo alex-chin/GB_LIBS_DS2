{
 "cells": [
  {
   "cell_type": "markdown",
   "metadata": {},
   "source": [
    "# Урок 4.  Оценка и интерпретация полученной модели. Обсуждение курсового проекта."
   ]
  },
  {
   "cell_type": "markdown",
   "metadata": {},
   "source": [
    "1. Расскажите, как работает регуляризация в решающих деревьях, какие параметры мы штрафуем в данных алгоритмах?\n",
    "2. По какому принципу рассчитывается \"важность признака (feature_importance)\" в ансамблях деревьев?\n",
    "\n",
    "3. Прикрепите ссылку на курсовой проект.\n",
    "4. Укажите, пожалуйста, ваш ник на kaggle."
   ]
  },
  {
   "cell_type": "markdown",
   "metadata": {},
   "source": [
    "### 1. Работа регуляризации в решающих деревьях"
   ]
  },
  {
   "cell_type": "markdown",
   "metadata": {},
   "source": [
    "Регуляция, как правило работает чтобы предотвратить сложность моделей и снизить переобучение. Необходимо штрафовать количество листьев и глубину деревьев. Кроме того, применяеся коэффицент регуляции перед каждым деревом, который снижает скорость обучения. Чем он выше тем снижается прирост информации (похожесть) и происходит \"стрижка\" дерева."
   ]
  },
  {
   "cell_type": "markdown",
   "metadata": {},
   "source": [
    "### 2.  Рассчет \"важность признака (feature_importance)\""
   ]
  },
  {
   "cell_type": "markdown",
   "metadata": {},
   "source": [
    "Библиотека cikit-learn оперирует значением Gini важности признака - Mean Decrease in Impurity (MDI). Вычисляется важность каждого признака как сумму количества ветвлений (по всем листьям), которые включает этот признак, пропорционально количеству разбиенний с помощью данного признака."
   ]
  },
  {
   "cell_type": "code",
   "execution_count": null,
   "metadata": {},
   "outputs": [],
   "source": []
  }
 ],
 "metadata": {
  "kernelspec": {
   "display_name": "Python 3",
   "language": "python",
   "name": "python3"
  },
  "language_info": {
   "codemirror_mode": {
    "name": "ipython",
    "version": 3
   },
   "file_extension": ".py",
   "mimetype": "text/x-python",
   "name": "python",
   "nbconvert_exporter": "python",
   "pygments_lexer": "ipython3",
   "version": "3.6.13"
  }
 },
 "nbformat": 4,
 "nbformat_minor": 2
}
